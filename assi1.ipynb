{
 "cells": [
  {
   "cell_type": "code",
   "execution_count": 2,
   "id": "49b64937",
   "metadata": {},
   "outputs": [
    {
     "name": "stdout",
     "output_type": "stream",
     "text": [
      "enter a number\n",
      "44\n",
      "enter a number\n",
      "55\n",
      "1.sum\n",
      " 2.substract\n",
      " 3.multiply\n",
      " 4.divide\n",
      " 5.exit\n",
      "enter choice:1\n",
      "sum= 99\n",
      "1.sum\n",
      " 2.substract\n",
      " 3.multiply\n",
      " 4.divide\n",
      " 5.exit\n",
      "enter choice:2\n",
      "difference= 11\n",
      "1.sum\n",
      " 2.substract\n",
      " 3.multiply\n",
      " 4.divide\n",
      " 5.exit\n",
      "enter choice:3\n",
      "product= 2420\n",
      "1.sum\n",
      " 2.substract\n",
      " 3.multiply\n",
      " 4.divide\n",
      " 5.exit\n",
      "enter choice:4\n",
      "quotient= 0.8\n",
      "1.sum\n",
      " 2.substract\n",
      " 3.multiply\n",
      " 4.divide\n",
      " 5.exit\n",
      "enter choice:5\n",
      "exiting...\n"
     ]
    }
   ],
   "source": [
    "#arithmetic operations\n",
    "\n",
    "n=int(input(\"enter a number\\n\"))\n",
    "m=int(input(\"enter a number\\n\"))\n",
    "while(1):\n",
    "    print(\"1.sum\\n 2.substract\\n 3.multiply\\n 4.divide\\n 5.exit\")\n",
    "    ch=int(input(\"enter choice:\"))\n",
    "    if(ch==1):\n",
    "        print(\"sum=\",n+m)\n",
    "    elif(ch==2):\n",
    "        print(\"difference=\",m-n)\n",
    "    elif(ch==3):\n",
    "        print(\"product=\",m*n)\n",
    "    elif(ch==4):\n",
    "        print(\"quotient=\",n/m)\n",
    "    else:\n",
    "        print(\"exiting...\")\n",
    "        break\n",
    "    \n",
    "    \n",
    "    \n",
    "    "
   ]
  },
  {
   "cell_type": "code",
   "execution_count": 4,
   "id": "6997f88f",
   "metadata": {},
   "outputs": [
    {
     "name": "stdout",
     "output_type": "stream",
     "text": [
      "enter the string1\n",
      "amala\n",
      "enter the string2\n",
      "benny\n",
      "1.length of string2\n",
      " 2.slicing of string\n",
      " 3.to uppercase\n",
      " 4.to lowercase\n",
      " 5.replace\n",
      " 6.concatenate\n",
      " 7.exit\n",
      "enter choice:1\n",
      "length= 5\n"
     ]
    }
   ],
   "source": [
    "#string operations\n",
    "\n",
    "s1=str(input(\"enter the string1\\n\"))\n",
    "s2=str(input(\"enter the string2\\n\"))\n",
    "while(1):\n",
    "    print(\"1.length of string2\\n 2.slicing of string\\n 3.to uppercase\\n 4.to lowercase\\n 5.replace\\n 6.concatenate\\n 7.exit\")\n",
    "    ch=int(input(\"enter choice:\"))\n",
    "    if(ch==1):\n",
    "       print(\"length=\",len(s2))\n",
    "    elif(ch==2):\n",
    "        print(s1[2:])\n",
    "    elif(ch==3):\n",
    "        print(\"uppercase=\",s1.upper())\n",
    "    elif(ch==4):\n",
    "        print(\"lowercase=\",s2.lower())\n",
    "    elif(ch==5):\n",
    "        print(\"after replacing=\",s2.replace(\"o\",\"r\"))\n",
    "    elif(ch==6):\n",
    "        print(\"after concatinating=\",s)\n",
    "    else:\n",
    "        print(\"exiting..\")\n",
    "        break "
   ]
  },
  {
   "cell_type": "code",
   "execution_count": null,
   "id": "6711e881",
   "metadata": {},
   "outputs": [],
   "source": []
  }
 ],
 "metadata": {
  "kernelspec": {
   "display_name": "Python 3 (ipykernel)",
   "language": "python",
   "name": "python3"
  },
  "language_info": {
   "codemirror_mode": {
    "name": "ipython",
    "version": 3
   },
   "file_extension": ".py",
   "mimetype": "text/x-python",
   "name": "python",
   "nbconvert_exporter": "python",
   "pygments_lexer": "ipython3",
   "version": "3.11.4"
  }
 },
 "nbformat": 4,
 "nbformat_minor": 5
}
